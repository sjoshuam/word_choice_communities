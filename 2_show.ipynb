{
 "cells": [
  {
   "cell_type": "code",
   "execution_count": 1,
   "id": "6d958f87-9f13-4306-8234-424d6df9573b",
   "metadata": {},
   "outputs": [],
   "source": [
    "##########==========##########==========##########==========##########=========="
   ]
  },
  {
   "cell_type": "markdown",
   "id": "ef92aed8-f41d-402b-8002-f5ee52ca77f9",
   "metadata": {},
   "source": [
    "## HEAD"
   ]
  },
  {
   "cell_type": "markdown",
   "id": "d8bd2b0c-986e-49b7-92ab-3f4d942d6c67",
   "metadata": {},
   "source": [
    "#### HEAD01 - load libraries"
   ]
  },
  {
   "cell_type": "code",
   "execution_count": 2,
   "id": "4da7cefb-9319-430f-8685-4bc08fc90159",
   "metadata": {},
   "outputs": [],
   "source": [
    "import numpy as np\n",
    "import pandas as pd\n",
    "import matplotlib.pyplot as plt"
   ]
  },
  {
   "cell_type": "markdown",
   "id": "2c17a0c7-a857-4ed8-895a-36b70eb81f65",
   "metadata": {},
   "source": [
    "#### HEAD02 - load data files"
   ]
  },
  {
   "cell_type": "code",
   "execution_count": 3,
   "id": "cd573792-10b0-4f5b-a9dc-bf8153259868",
   "metadata": {},
   "outputs": [
    {
     "name": "stderr",
     "output_type": "stream",
     "text": [
      "/Users/s8/opt/anaconda3/envs/py310/lib/python3.10/site-packages/openpyxl/worksheet/_reader.py:312: UserWarning: Data Validation extension is not supported and will be removed\n",
      "  warn(msg)\n"
     ]
    }
   ],
   "source": [
    "handle_data = pd.read_excel('A_Input/twitter_handles.xlsx')\n",
    "user_data = pd.read_csv('B_Process/user_data.csv')\n",
    "tweet_data = pd.read_csv('B_Process/tweet_data.csv')"
   ]
  },
  {
   "cell_type": "markdown",
   "id": "ce5e52eb-cc8d-4996-9833-7fbbf34bda07",
   "metadata": {},
   "source": [
    "## PPTX"
   ]
  },
  {
   "cell_type": "markdown",
   "id": "6f247839-2e9c-4bae-b621-e7ae1828ae18",
   "metadata": {},
   "source": [
    "#### PPTX10 - Data Sources and Collection (Slide 10) - Calculate data collection statistics"
   ]
  },
  {
   "cell_type": "code",
   "execution_count": 16,
   "id": "bcf10bec-a01a-4a66-82d8-019c34a7e3b8",
   "metadata": {},
   "outputs": [
    {
     "data": {
      "text/html": [
       "<div>\n",
       "<style scoped>\n",
       "    .dataframe tbody tr th:only-of-type {\n",
       "        vertical-align: middle;\n",
       "    }\n",
       "\n",
       "    .dataframe tbody tr th {\n",
       "        vertical-align: top;\n",
       "    }\n",
       "\n",
       "    .dataframe thead th {\n",
       "        text-align: right;\n",
       "    }\n",
       "</style>\n",
       "<table border=\"1\" class=\"dataframe\">\n",
       "  <thead>\n",
       "    <tr style=\"text-align: right;\">\n",
       "      <th></th>\n",
       "      <th>Total</th>\n",
       "      <th>Congress</th>\n",
       "      <th>Republican</th>\n",
       "    </tr>\n",
       "  </thead>\n",
       "  <tbody>\n",
       "    <tr>\n",
       "      <th>Handles</th>\n",
       "      <td>796</td>\n",
       "      <td>537</td>\n",
       "      <td>263</td>\n",
       "    </tr>\n",
       "    <tr>\n",
       "      <th>Users</th>\n",
       "      <td>785</td>\n",
       "      <td>535</td>\n",
       "      <td>261</td>\n",
       "    </tr>\n",
       "    <tr>\n",
       "      <th>Tweets</th>\n",
       "      <td>99962</td>\n",
       "      <td>75078</td>\n",
       "      <td>37097</td>\n",
       "    </tr>\n",
       "  </tbody>\n",
       "</table>\n",
       "</div>"
      ],
      "text/plain": [
       "         Total  Congress  Republican\n",
       "Handles    796       537         263\n",
       "Users      785       535         261\n",
       "Tweets   99962     75078       37097"
      ]
     },
     "execution_count": 16,
     "metadata": {},
     "output_type": "execute_result"
    }
   ],
   "source": [
    "## calculate data collection statistics\n",
    "def calculate_collection_stats(\n",
    "    hd = handle_data, ud = user_data, td = tweet_data):\n",
    "    \n",
    "    ## define useful indices\n",
    "    congress_idx = ['USA House', 'USA Senate']\n",
    "    \n",
    "    ## calculate handle_data statistics\n",
    "    hd_stats = {\n",
    "        'Total': hd.shape[0],\n",
    "        'Congress': hd.group.value_counts().loc[congress_idx].sum(),\n",
    "        'Republican': hd.party.value_counts().loc['Republican']\n",
    "    }\n",
    "    \n",
    "    ## calculate user statistics\n",
    "    include_idx = ud.ml_set != 'exclude'\n",
    "    ud_stats = {\n",
    "        'Total': ud.loc[include_idx].shape[0],\n",
    "        'Congress': ud.group.loc[include_idx].value_counts().loc[\n",
    "            congress_idx].sum(),\n",
    "        'Republican': ud.party.loc[include_idx].value_counts().loc['Republican']\n",
    "    }\n",
    "    \n",
    "    ##calcualte tweet statistics\n",
    "    td_stats = {\n",
    "        'Total': td.shape[0],\n",
    "        'Congress': td.merge(ud, how = 'left', right_on = 'handle',\n",
    "            left_on = 'screen_name').group.value_counts().loc[congress_idx].sum(),\n",
    "        'Republican': td.merge(ud, how = 'left', right_on = 'handle',\n",
    "            left_on = 'screen_name').party.value_counts().loc['Republican'].sum()\n",
    "    }\n",
    "    \n",
    "    ## compile statistics\n",
    "    col_stats = {'Handles': hd_stats, 'Users': ud_stats, 'Tweets': td_stats}\n",
    "    \n",
    "    return pd.DataFrame(col_stats).T\n",
    "\n",
    "\n",
    "calculate_collection_stats()"
   ]
  },
  {
   "cell_type": "markdown",
   "id": "9e84bf4b-bdff-46b8-a581-ffd2b17e7742",
   "metadata": {},
   "source": [
    "## FOOT - display objects as needed"
   ]
  },
  {
   "cell_type": "code",
   "execution_count": null,
   "id": "c151c784-afd9-46f5-b2b2-686e824ee90c",
   "metadata": {},
   "outputs": [],
   "source": []
  }
 ],
 "metadata": {
  "kernelspec": {
   "display_name": "Python 3 (ipykernel)",
   "language": "python",
   "name": "python3"
  },
  "language_info": {
   "codemirror_mode": {
    "name": "ipython",
    "version": 3
   },
   "file_extension": ".py",
   "mimetype": "text/x-python",
   "name": "python",
   "nbconvert_exporter": "python",
   "pygments_lexer": "ipython3",
   "version": "3.8.13"
  }
 },
 "nbformat": 4,
 "nbformat_minor": 5
}
