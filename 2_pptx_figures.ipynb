{
 "cells": [
  {
   "cell_type": "code",
   "execution_count": 1,
   "id": "6d958f87-9f13-4306-8234-424d6df9573b",
   "metadata": {},
   "outputs": [],
   "source": [
    "##########==========##########==========##########==========##########=========="
   ]
  },
  {
   "cell_type": "markdown",
   "id": "ef92aed8-f41d-402b-8002-f5ee52ca77f9",
   "metadata": {},
   "source": [
    "## HEAD"
   ]
  },
  {
   "cell_type": "markdown",
   "id": "d8bd2b0c-986e-49b7-92ab-3f4d942d6c67",
   "metadata": {},
   "source": [
    "#### HEAD01 - load libraries"
   ]
  },
  {
   "cell_type": "code",
   "execution_count": 2,
   "id": "4da7cefb-9319-430f-8685-4bc08fc90159",
   "metadata": {},
   "outputs": [],
   "source": [
    "import numpy as np\n",
    "import pandas as pd\n",
    "import matplotlib.pyplot as plt\n",
    "import pickle\n",
    "import matplotlib.patches as mpatches"
   ]
  },
  {
   "cell_type": "markdown",
   "id": "2c17a0c7-a857-4ed8-895a-36b70eb81f65",
   "metadata": {},
   "source": [
    "#### HEAD02 - load data files"
   ]
  },
  {
   "cell_type": "code",
   "execution_count": 3,
   "id": "cd573792-10b0-4f5b-a9dc-bf8153259868",
   "metadata": {},
   "outputs": [
    {
     "name": "stderr",
     "output_type": "stream",
     "text": [
      "/Users/s8/opt/anaconda3/envs/py310/lib/python3.10/site-packages/openpyxl/worksheet/_reader.py:312: UserWarning: Data Validation extension is not supported and will be removed\n",
      "  warn(msg)\n"
     ]
    }
   ],
   "source": [
    "def load_pickle(addr):\n",
    "    conn = open(addr, 'rb')\n",
    "    the_object = pickle.load(conn)\n",
    "    conn.close()\n",
    "    return the_object\n",
    "\n",
    "handle_data = pd.read_excel('A_Input/twitter_handles.xlsx')\n",
    "user_data = pd.read_csv('B_Process/user_data.csv')\n",
    "tweet_data = pd.read_csv('B_Process/tweet_data.csv')\n",
    "best_model_stats = load_pickle('B_Process/best_model_stats.pickle')\n",
    "\n",
    "\n",
    "## load hparam files\n",
    "logistic_hparams = load_pickle('B_Process/models/logistic_hparams.pickle')\n",
    "bayes_hparams    = load_pickle('B_Process/models/bayes_hparams.pickle')\n",
    "forest_hparams   = load_pickle('B_Process/models/forest_hparams.pickle')\n",
    "adaboost_hparams = load_pickle('B_Process/models/adaboost_hparams.pickle')"
   ]
  },
  {
   "cell_type": "markdown",
   "id": "d4335981-bdf1-4039-83f7-c976a0ed200d",
   "metadata": {},
   "source": [
    "#### HEAD03 - define plotting styles"
   ]
  },
  {
   "cell_type": "code",
   "execution_count": 4,
   "id": "7994e0d8-d06b-4d3a-82d7-313790d0ed1e",
   "metadata": {},
   "outputs": [],
   "source": [
    "## define a color palette\n",
    "cp = {\n",
    "    'AzureDark': '#021F33',\n",
    "    'BrownDark': '#804419',\n",
    "    'AzureFaded': '#466F91',\n",
    "    'BrownFaded': '#916846',\n",
    "    'AzureBg': '#CAD9E6',\n",
    "    'BrownBg': '#E6D6CA',\n",
    "    'AzureGrid': '#B4C1CC',\n",
    "    'Trans': '#11223300'\n",
    "    }\n",
    "cp['AzureBgTrans'] = cp['AzureBg'] + '40'\n",
    "\n",
    "## define font parameters\n",
    "def define_pptx_font():\n",
    "    plt.rcParams['font.family'] = 'sans-serif'\n",
    "    plt.rcParams['font.sans-serif'] = ['Quicksand']\n",
    "    plt.rcParams['font.weight'] = 'medium'\n",
    "    plt.rcParams['font.size'] = 12\n",
    "    plt.rcParams['ytick.labelsize'] = 12\n",
    "    plt.rcParams['xtick.labelsize'] = 12\n",
    "    plt.rcParams['axes.labelsize'] = 12\n",
    "    \n",
    "\n",
    "## define fonts\n",
    "def define_pptx_style(color_palette = cp):\n",
    "    \n",
    "    plt.rcParams['figure.figsize'] = (4.5, 4.5)\n",
    "    \n",
    "    for i in plt.rcParams.keys():\n",
    "        if i.endswith('color'): \n",
    "            try: plt.rcParams[i] = color_palette['AzureDark']\n",
    "            except: print('cannot change: ', i)\n",
    "        if i.endswith('facecolor'): \n",
    "            try: plt.rcParams[i] = color_palette['AzureBg']\n",
    "            except: print('cannot change: ', i)\n",
    "        if i.endswith('edgecolor'): \n",
    "            try: plt.rcParams[i] = color_palette['AzureDark']\n",
    "            except: print('cannot change: ', i)\n"
   ]
  },
  {
   "cell_type": "markdown",
   "id": "ce5e52eb-cc8d-4996-9833-7fbbf34bda07",
   "metadata": {},
   "source": [
    "## PPTX"
   ]
  },
  {
   "cell_type": "markdown",
   "id": "5d51ead3-8bd1-4026-a358-d3256290369f",
   "metadata": {},
   "source": [
    "#### PPTX00 - define colors and fonts for plots"
   ]
  },
  {
   "cell_type": "code",
   "execution_count": 5,
   "id": "6e9118fb-4fe1-4772-8bab-873c30754beb",
   "metadata": {},
   "outputs": [
    {
     "name": "stdout",
     "output_type": "stream",
     "text": [
      "cannot change:  patch.force_edgecolor\n",
      "cannot change:  patch.force_edgecolor\n",
      "cannot change:  pdf.inheritcolor\n"
     ]
    }
   ],
   "source": [
    "define_pptx_font()\n",
    "define_pptx_style()"
   ]
  },
  {
   "cell_type": "markdown",
   "id": "6f247839-2e9c-4bae-b621-e7ae1828ae18",
   "metadata": {},
   "source": [
    "#### PPTX 01 - Data Sources and Collection: Calculate data collection statistics"
   ]
  },
  {
   "cell_type": "code",
   "execution_count": 6,
   "id": "bcf10bec-a01a-4a66-82d8-019c34a7e3b8",
   "metadata": {},
   "outputs": [
    {
     "data": {
      "text/html": [
       "<div>\n",
       "<style scoped>\n",
       "    .dataframe tbody tr th:only-of-type {\n",
       "        vertical-align: middle;\n",
       "    }\n",
       "\n",
       "    .dataframe tbody tr th {\n",
       "        vertical-align: top;\n",
       "    }\n",
       "\n",
       "    .dataframe thead th {\n",
       "        text-align: right;\n",
       "    }\n",
       "</style>\n",
       "<table border=\"1\" class=\"dataframe\">\n",
       "  <thead>\n",
       "    <tr style=\"text-align: right;\">\n",
       "      <th></th>\n",
       "      <th>Total</th>\n",
       "      <th>Congress</th>\n",
       "      <th>Republican</th>\n",
       "    </tr>\n",
       "  </thead>\n",
       "  <tbody>\n",
       "    <tr>\n",
       "      <th>Handles</th>\n",
       "      <td>796</td>\n",
       "      <td>537</td>\n",
       "      <td>263</td>\n",
       "    </tr>\n",
       "    <tr>\n",
       "      <th>Users</th>\n",
       "      <td>785</td>\n",
       "      <td>535</td>\n",
       "      <td>261</td>\n",
       "    </tr>\n",
       "    <tr>\n",
       "      <th>Tweets</th>\n",
       "      <td>100078</td>\n",
       "      <td>75039</td>\n",
       "      <td>37128</td>\n",
       "    </tr>\n",
       "  </tbody>\n",
       "</table>\n",
       "</div>"
      ],
      "text/plain": [
       "          Total  Congress  Republican\n",
       "Handles     796       537         263\n",
       "Users       785       535         261\n",
       "Tweets   100078     75039       37128"
      ]
     },
     "execution_count": 6,
     "metadata": {},
     "output_type": "execute_result"
    }
   ],
   "source": [
    "## calculate data collection statistics\n",
    "def calculate_collection_stats(\n",
    "    hd = handle_data, ud = user_data, td = tweet_data):\n",
    "    \n",
    "    ## define useful indices\n",
    "    congress_idx = ['USA House', 'USA Senate']\n",
    "    \n",
    "    ## calculate handle_data statistics\n",
    "    hd_stats = {\n",
    "        'Total': hd.shape[0],\n",
    "        'Congress': hd.group.value_counts().loc[congress_idx].sum(),\n",
    "        'Republican': hd.party.value_counts().loc['Republican']\n",
    "    }\n",
    "    \n",
    "    ## calculate user statistics\n",
    "    include_idx = ud.ml_set != 'exclude'\n",
    "    ud_stats = {\n",
    "        'Total': ud.loc[include_idx].shape[0],\n",
    "        'Congress': ud.group.loc[include_idx].value_counts().loc[\n",
    "            congress_idx].sum(),\n",
    "        'Republican': ud.party.loc[include_idx].value_counts().loc['Republican']\n",
    "    }\n",
    "    \n",
    "    ##calcualte tweet statistics\n",
    "    td_stats = {\n",
    "        'Total': td.shape[0],\n",
    "        'Congress': td.merge(ud, how = 'left', right_on = 'handle',\n",
    "            left_on = 'screen_name').group.value_counts().loc[congress_idx].sum(),\n",
    "        'Republican': td.merge(ud, how = 'left', right_on = 'handle',\n",
    "            left_on = 'screen_name').party.value_counts().loc['Republican'].sum()\n",
    "    }\n",
    "    \n",
    "    ## compile statistics\n",
    "    col_stats = {'Handles': hd_stats, 'Users': ud_stats, 'Tweets': td_stats}\n",
    "    \n",
    "    return pd.DataFrame(col_stats).T\n",
    "\n",
    "\n",
    "calculate_collection_stats()"
   ]
  },
  {
   "cell_type": "markdown",
   "id": "84dda7dd-6857-4e1c-b7c3-fed3b080f2b0",
   "metadata": {},
   "source": [
    "#### PPTX02 - Model Performance: Model performance scatterplot"
   ]
  },
  {
   "cell_type": "code",
   "execution_count": 7,
   "id": "ffacc4a0-f908-448c-b68a-80ed6362cdc9",
   "metadata": {},
   "outputs": [],
   "source": [
    "## add plotting parameters to best_model_stats object\n",
    "def add_plot_params_to_bms(bms = best_model_stats, col_pal = cp):\n",
    "    \n",
    "    ## prepare data\n",
    "    bms[('time', 'run_time')] = (bms[('time', 'run_time')\n",
    "        ]).fillna(min(bms[('time', 'run_time')].values))\n",
    "    bms = bms.reset_index()\n",
    "    \n",
    "    ## parse names for useful data\n",
    "    bms[('model', 'abbrev')] = bms[('model', 'algorithm')\n",
    "                                  ].replace({'bayes':'NB', 'forest':'RF',\n",
    "                                             'logistic':'LR', 'adaboost':'AB',\n",
    "                                             'random':'RG'})\n",
    "    bms[('model', 'stage')] = 'One-Stage'\n",
    "    i = bms[('model', 'variant')].str.endswith('stage')\n",
    "    bms.loc[i, ('model', 'stage')] = 'Two-Stage'\n",
    "    bms[('model', 'x')] = 'Features'\n",
    "    i = bms[('model', 'variant')].str.startswith('pca')\n",
    "    bms.loc[i, ('model', 'x')] = 'PCA'\n",
    "    \n",
    "    ## set colors and style sizes\n",
    "    bms[('plot', 'color')] = 'Azure'\n",
    "    bms[('plot', 'shape')] = 's'\n",
    "    bms[('plot', 'size')] = 140\n",
    "    \n",
    "    i = bms[('model', 'stage')] == 'One-Stage'\n",
    "    bms.loc[i, ('plot', 'color')] = 'Brown'\n",
    "    \n",
    "    i = bms[('model', 'x')] == 'PCA'\n",
    "    bms.loc[i, ('plot', 'color')] = bms.loc[i, ('plot', 'color')] + 'Faded'\n",
    "    bms.loc[~i, ('plot', 'color')] = bms.loc[~i, ('plot', 'color')] + 'Dark'\n",
    "    bms.loc[i, ('plot', 'shape')] = 'h'\n",
    "    bms.loc[i, ('plot', 'size')] = 210\n",
    "    \n",
    "    for i in bms.index:\n",
    "        bms.loc[i, ('plot', 'color')] = cp[bms.loc[i, ('plot', 'color')]]\n",
    "    \n",
    "    ## return data\n",
    "    return bms\n",
    "\n",
    "## execute code\n",
    "best_model_stats = add_plot_params_to_bms()"
   ]
  },
  {
   "cell_type": "code",
   "execution_count": 8,
   "id": "c91fef31-ee07-4668-8bb4-55317dbda71b",
   "metadata": {},
   "outputs": [],
   "source": [
    "def add_scatter_points(stage, x, bms = best_model_stats,\n",
    "                       bgcol = cp['AzureBg'], zo = 10):\n",
    "    i = bms[('model', 'stage')] == stage\n",
    "    i = i & (bms[('model', 'x')] == x)\n",
    "    \n",
    "    ## render points\n",
    "    plt.scatter(\n",
    "        x = bms.loc[i, ('time', 'run_time')],\n",
    "        y = bms.loc[i, ('perform', 'f1')],\n",
    "        c = bms.loc[i, ('plot', 'color')].values[0],\n",
    "        s = bms.loc[i, ('plot', 'size')],\n",
    "        marker = bms.loc[i, ('plot', 'shape')].values[0],\n",
    "        label = stage + ', ' + x,\n",
    "        zorder = zo\n",
    "        )\n",
    "    \n",
    "    ## render point labels\n",
    "    for j in bms.index[i]:\n",
    "        plt.text(\n",
    "            x = bms.loc[j, ('time', 'run_time')],\n",
    "            y = bms.loc[j, ('perform', 'f1')],\n",
    "            s = bms.loc[j, ('model', 'abbrev')],\n",
    "            c = bms.loc[j, ('plot', 'color')],\n",
    "            fontsize = int(plt.rcParams['font.size'] * 0.5),\n",
    "            ha = 'center', va = 'center', zorder = zo + 1,\n",
    "            bbox = dict(facecolor = bgcol, edgecolor = '#00FF0000',\n",
    "                       boxstyle = 'round')\n",
    "        )"
   ]
  },
  {
   "cell_type": "code",
   "execution_count": 9,
   "id": "b27b80ed-78c8-4abe-9dbd-a5b22714b574",
   "metadata": {},
   "outputs": [
    {
     "data": {
      "image/png": "[encoded data removed]",
      "text/plain": [
       "<Figure size 324x324 with 1 Axes>"
      ]
     },
     "metadata": {},
     "output_type": "display_data"
    }
   ],
   "source": [
    "##  render points\n",
    "add_scatter_points('Two-Stage', 'PCA', zo = 10)\n",
    "add_scatter_points('One-Stage', 'PCA', zo = 12)\n",
    "add_scatter_points('Two-Stage', 'Features', zo = 14)\n",
    "add_scatter_points('One-Stage', 'Features', zo = 16)\n",
    "\n",
    "## modify various plot aspects\n",
    "plt.legend()\n",
    "plt.gca().set_xlabel('Seconds of runtime (logged) • Model is fast ---->')\n",
    "plt.gca().set_ylabel('F1 score on test dataset • Model is accurate ---->')\n",
    "plt.gca().set_xlim((0.9, 2**11))\n",
    "plt.gca().set_ylim(0.3, 1)\n",
    "plt.gca().set_xscale('log', base = 2)\n",
    "plt.gca().invert_xaxis()\n",
    "plt.grid(color = cp['AzureGrid'])\n",
    "\n",
    "## save image to disk\n",
    "plt.gcf().savefig('C_Output/pptx_model_performance.pdf')"
   ]
  },
  {
   "cell_type": "markdown",
   "id": "11ff957e-5f3c-4c8e-8ec8-4c1779892453",
   "metadata": {},
   "source": [
    "#### PPTX11 - Hyperparameter Testing: performance variability boxplots"
   ]
  },
  {
   "cell_type": "code",
   "execution_count": 10,
   "id": "985def4d-b35f-4e6b-8705-5a75f922dc80",
   "metadata": {},
   "outputs": [],
   "source": [
    "## extract scoring information from hyperparameter search objects\n",
    "def extract_test_scores(hparams, pca = False):\n",
    "    \n",
    "    ## extract scores\n",
    "    result = dict()\n",
    "    for i in hparams.keys():\n",
    "        if pca:\n",
    "            if i[0:3] == \"pca\":\n",
    "                result[i] = hparams[i].cv_results_[\"mean_test_score\"]\n",
    "        else:\n",
    "            if i[0:3] != \"pca\":\n",
    "                result[i] = hparams[i].cv_results_[\"mean_test_score\"]\n",
    "            \n",
    "    ## package and return\n",
    "    result = pd.DataFrame(result)\n",
    "    return result.values.reshape(-1, 1)\n",
    "\n",
    "def compile_test_scores(hparam_dict = {\n",
    "        'LR': logistic_hparams,\n",
    "        'NB': bayes_hparams,\n",
    "        'RF': forest_hparams,\n",
    "        'AB': adaboost_hparams,\n",
    "        }, get_pca = False):\n",
    "    result = dict()\n",
    "    max_length = 0\n",
    "    for i in hparam_dict.keys():\n",
    "        result[i] = pd.DataFrame(\n",
    "            extract_test_scores(hparam_dict[i], pca = get_pca))\n",
    "        result[i] = result[i].squeeze().sample(n = int(1e5), replace = True,\n",
    "                                     random_state = 4561)\n",
    "        result[i] = result[i].reset_index(drop = True)\n",
    "        \n",
    "    result = pd.DataFrame(result)\n",
    "\n",
    "    return result\n",
    "\n",
    "## execute code\n",
    "hparams = compile_test_scores(get_pca = False)\n",
    "hparams_pca = compile_test_scores(get_pca = True)\n",
    "hparams = pd.concat([hparams, hparams_pca], axis = 1)"
   ]
  },
  {
   "cell_type": "code",
   "execution_count": 11,
   "id": "e1794932-1172-4bd6-9062-1dc4ea616b56",
   "metadata": {},
   "outputs": [
    {
     "data": {
      "image/png": "[encoded data removed]",
      "text/plain": [
       "<Figure size 324x324 with 1 Axes>"
      ]
     },
     "metadata": {},
     "output_type": "display_data"
    }
   ],
   "source": [
    "## generate boxplots to represent spread of accuracy scores given parameters\n",
    "plt.boxplot(hparams, labels = hparams.columns, showfliers = False,\n",
    "            whis = (10, 90))\n",
    "\n",
    "## modify various plot aspects\n",
    "plt.grid(color = cp['AzureGrid'])\n",
    "plt.gca().set_ylim(0.3, 1)\n",
    "plt.gca().set_ylabel('F1 score on test dataset • Model is accurate ---->')\n",
    "plt.gca().set_xlabel(loc = 'left', xlabel = ' ' * 11 +'Features' +\\\n",
    "                     ' ' * 13 + 'Principal Components')\n",
    "\n",
    "## save image\n",
    "plt.gcf().savefig('C_Output/pptx_hyperparameter_performance.pdf')"
   ]
  },
  {
   "cell_type": "markdown",
   "id": "9e84bf4b-bdff-46b8-a581-ffd2b17e7742",
   "metadata": {},
   "source": [
    "## FOOT - display objects as needed"
   ]
  },
  {
   "cell_type": "code",
   "execution_count": null,
   "id": "4d5e3dc1-fd47-4eb1-831b-5292a26807e2",
   "metadata": {},
   "outputs": [],
   "source": []
  }
 ],
 "metadata": {
  "kernelspec": {
   "display_name": "Python 3 (ipykernel)",
   "language": "python",
   "name": "python3"
  },
  "language_info": {
   "codemirror_mode": {
    "name": "ipython",
    "version": 3
   },
   "file_extension": ".py",
   "mimetype": "text/x-python",
   "name": "python",
   "nbconvert_exporter": "python",
   "pygments_lexer": "ipython3",
   "version": "3.10.4"
  }
 },
 "nbformat": 4,
 "nbformat_minor": 5
}
